{
 "cells": [
  {
   "cell_type": "code",
   "execution_count": 1,
   "metadata": {},
   "outputs": [],
   "source": [
    "import numpy as np\n",
    "from qiskit import *\n",
    "%matplotlib inline"
   ]
  },
  {
   "cell_type": "code",
   "execution_count": null,
   "metadata": {},
   "outputs": [],
   "source": [
    "def quantum_black_box(circ, n, q, option):\n",
    "    if option==1:\n",
    "        pass\n",
    "    elif option==2:\n",
    "        circ.x(q[n])\n",
    "    elif option==3:\n",
    "        circ.cx(q[0], q[1])\n",
    "    elif option==4:\n",
    "        circ.x(q[0])\n",
    "        circ.cx(q[0], q[1])\n",
    "        circ.x(q[0])\n",
    "    return circ"
   ]
  }
 ],
 "metadata": {
  "kernelspec": {
   "display_name": "Python 3",
   "language": "python",
   "name": "python3"
  },
  "language_info": {
   "codemirror_mode": {
    "name": "ipython",
    "version": 3
   },
   "file_extension": ".py",
   "mimetype": "text/x-python",
   "name": "python",
   "nbconvert_exporter": "python",
   "pygments_lexer": "ipython3",
   "version": "3.6.7"
  }
 },
 "nbformat": 4,
 "nbformat_minor": 4
}
