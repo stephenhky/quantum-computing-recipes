{
 "cells": [
  {
   "cell_type": "code",
   "execution_count": 1,
   "metadata": {},
   "outputs": [],
   "source": [
    "import numpy as np\n",
    "from qiskit import *\n",
    "%matplotlib inline"
   ]
  },
  {
   "cell_type": "code",
   "execution_count": 2,
   "metadata": {},
   "outputs": [],
   "source": [
    "def quantum_black_box(circ, n, q, option):\n",
    "    if option==1:\n",
    "        pass\n",
    "    elif option==2:\n",
    "        circ.x(q[n])\n",
    "    elif option==3:\n",
    "        circ.cx(q[0], q[n])\n",
    "        circ.x(q[n])\n",
    "    return circ"
   ]
  },
  {
   "cell_type": "code",
   "execution_count": 3,
   "metadata": {},
   "outputs": [],
   "source": [
    "# Deutsch-Jozsa Algorithm\n",
    "def deutsch_jozsa_problem_circuit(n, option):\n",
    "    q = QuantumRegister(n+1)\n",
    "    circ = QuantumCircuit(q)\n",
    "    circ.x(q[n])\n",
    "    for i in range(n):\n",
    "        circ.h(q[i])\n",
    "    circ.h(q[n])\n",
    "    circ = quantum_black_box(circ, n, q, option)\n",
    "    for i in range(n):\n",
    "        circ.h(q[i])\n",
    "    return circ"
   ]
  },
  {
   "cell_type": "code",
   "execution_count": 4,
   "metadata": {},
   "outputs": [
    {
     "data": {
      "text/html": [
       "<pre style=\"word-wrap: normal;white-space: pre;line-height: 15px;\">          ┌───┐┌───┐\n",
       " q0_0: |0>┤ H ├┤ H ├\n",
       "          ├───┤├───┤\n",
       " q0_1: |0>┤ H ├┤ H ├\n",
       "          ├───┤├───┤\n",
       " q0_2: |0>┤ H ├┤ H ├\n",
       "          ├───┤├───┤\n",
       " q0_3: |0>┤ H ├┤ H ├\n",
       "          ├───┤├───┤\n",
       " q0_4: |0>┤ H ├┤ H ├\n",
       "          ├───┤├───┤\n",
       " q0_5: |0>┤ H ├┤ H ├\n",
       "          ├───┤├───┤\n",
       " q0_6: |0>┤ H ├┤ H ├\n",
       "          ├───┤├───┤\n",
       " q0_7: |0>┤ H ├┤ H ├\n",
       "          ├───┤├───┤\n",
       " q0_8: |0>┤ H ├┤ H ├\n",
       "          ├───┤├───┤\n",
       " q0_9: |0>┤ H ├┤ H ├\n",
       "          ├───┤├───┤\n",
       "q0_10: |0>┤ X ├┤ H ├\n",
       "          └───┘└───┘</pre>"
      ],
      "text/plain": [
       "<qiskit.visualization.text.TextDrawing at 0x11f8dbb38>"
      ]
     },
     "execution_count": 4,
     "metadata": {},
     "output_type": "execute_result"
    }
   ],
   "source": [
    "circ1 = deutsch_jozsa_problem_circuit(10, 1)\n",
    "circ1.draw()"
   ]
  },
  {
   "cell_type": "code",
   "execution_count": 5,
   "metadata": {},
   "outputs": [
    {
     "data": {
      "text/html": [
       "<pre style=\"word-wrap: normal;white-space: pre;line-height: 15px;\">          ┌───┐┌───┐     \n",
       " q1_0: |0>┤ H ├┤ H ├─────\n",
       "          ├───┤├───┤     \n",
       " q1_1: |0>┤ H ├┤ H ├─────\n",
       "          ├───┤├───┤     \n",
       " q1_2: |0>┤ H ├┤ H ├─────\n",
       "          ├───┤├───┤     \n",
       " q1_3: |0>┤ H ├┤ H ├─────\n",
       "          ├───┤├───┤     \n",
       " q1_4: |0>┤ H ├┤ H ├─────\n",
       "          ├───┤├───┤     \n",
       " q1_5: |0>┤ H ├┤ H ├─────\n",
       "          ├───┤├───┤     \n",
       " q1_6: |0>┤ H ├┤ H ├─────\n",
       "          ├───┤├───┤     \n",
       " q1_7: |0>┤ H ├┤ H ├─────\n",
       "          ├───┤├───┤     \n",
       " q1_8: |0>┤ H ├┤ H ├─────\n",
       "          ├───┤├───┤     \n",
       " q1_9: |0>┤ H ├┤ H ├─────\n",
       "          ├───┤├───┤┌───┐\n",
       "q1_10: |0>┤ X ├┤ H ├┤ X ├\n",
       "          └───┘└───┘└───┘</pre>"
      ],
      "text/plain": [
       "<qiskit.visualization.text.TextDrawing at 0x11fa77438>"
      ]
     },
     "execution_count": 5,
     "metadata": {},
     "output_type": "execute_result"
    }
   ],
   "source": [
    "circ2 = deutsch_jozsa_problem_circuit(10, 2)\n",
    "circ2.draw()"
   ]
  },
  {
   "cell_type": "code",
   "execution_count": 6,
   "metadata": {},
   "outputs": [
    {
     "data": {
      "text/html": [
       "<pre style=\"word-wrap: normal;white-space: pre;line-height: 15px;\">          ┌───┐          ┌───┐\n",
       " q2_0: |0>┤ H ├───────■──┤ H ├\n",
       "          ├───┤┌───┐  │  └───┘\n",
       " q2_1: |0>┤ H ├┤ H ├──┼───────\n",
       "          ├───┤├───┤  │       \n",
       " q2_2: |0>┤ H ├┤ H ├──┼───────\n",
       "          ├───┤├───┤  │       \n",
       " q2_3: |0>┤ H ├┤ H ├──┼───────\n",
       "          ├───┤├───┤  │       \n",
       " q2_4: |0>┤ H ├┤ H ├──┼───────\n",
       "          ├───┤├───┤  │       \n",
       " q2_5: |0>┤ H ├┤ H ├──┼───────\n",
       "          ├───┤├───┤  │       \n",
       " q2_6: |0>┤ H ├┤ H ├──┼───────\n",
       "          ├───┤├───┤  │       \n",
       " q2_7: |0>┤ H ├┤ H ├──┼───────\n",
       "          ├───┤├───┤  │       \n",
       " q2_8: |0>┤ H ├┤ H ├──┼───────\n",
       "          ├───┤├───┤  │       \n",
       " q2_9: |0>┤ H ├┤ H ├──┼───────\n",
       "          ├───┤├───┤┌─┴─┐┌───┐\n",
       "q2_10: |0>┤ X ├┤ H ├┤ X ├┤ X ├\n",
       "          └───┘└───┘└───┘└───┘</pre>"
      ],
      "text/plain": [
       "<qiskit.visualization.text.TextDrawing at 0x11f8ed128>"
      ]
     },
     "execution_count": 6,
     "metadata": {},
     "output_type": "execute_result"
    }
   ],
   "source": [
    "circ3 = deutsch_jozsa_problem_circuit(10, 3)\n",
    "circ3.draw()"
   ]
  },
  {
   "cell_type": "code",
   "execution_count": 7,
   "metadata": {},
   "outputs": [],
   "source": [
    "# Import Aer\n",
    "from qiskit import BasicAer\n",
    "\n",
    "# Run the quantum circuit on a statevector simulator backend\n",
    "backend = BasicAer.get_backend('statevector_simulator')"
   ]
  },
  {
   "cell_type": "code",
   "execution_count": 8,
   "metadata": {},
   "outputs": [
    {
     "data": {
      "text/plain": [
       "array([0.70710678+0.j, 0.        +0.j, 0.        +0.j, ...,\n",
       "       0.        +0.j, 0.        +0.j, 0.        +0.j])"
      ]
     },
     "execution_count": 8,
     "metadata": {},
     "output_type": "execute_result"
    }
   ],
   "source": [
    "job1 = execute(circ1, backend)\n",
    "result1 = job1.result()\n",
    "result1.get_statevector()"
   ]
  },
  {
   "cell_type": "code",
   "execution_count": 9,
   "metadata": {},
   "outputs": [
    {
     "data": {
      "text/plain": [
       "array([-0.70710678+0.j,  0.        +0.j,  0.        +0.j, ...,\n",
       "        0.        +0.j,  0.        +0.j,  0.        +0.j])"
      ]
     },
     "execution_count": 9,
     "metadata": {},
     "output_type": "execute_result"
    }
   ],
   "source": [
    "job2 = execute(circ2, backend)\n",
    "result2 = job2.result()\n",
    "result2.get_statevector()"
   ]
  },
  {
   "cell_type": "code",
   "execution_count": 10,
   "metadata": {},
   "outputs": [
    {
     "data": {
      "text/plain": [
       "array([ 0.        +0.j, -0.70710678+0.j,  0.        +0.j, ...,\n",
       "        0.        +0.j,  0.        +0.j,  0.        +0.j])"
      ]
     },
     "execution_count": 10,
     "metadata": {},
     "output_type": "execute_result"
    }
   ],
   "source": [
    "job3 = execute(circ3, backend)\n",
    "result3 = job3.result()\n",
    "result3.get_statevector()"
   ]
  },
  {
   "cell_type": "code",
   "execution_count": 16,
   "metadata": {},
   "outputs": [
    {
     "data": {
      "text/plain": [
       "(array([   0, 1024]),)"
      ]
     },
     "execution_count": 16,
     "metadata": {},
     "output_type": "execute_result"
    }
   ],
   "source": [
    "np.where(result1.get_statevector()!=0)"
   ]
  },
  {
   "cell_type": "code",
   "execution_count": 17,
   "metadata": {},
   "outputs": [
    {
     "data": {
      "text/plain": [
       "(array([   0, 1024]),)"
      ]
     },
     "execution_count": 17,
     "metadata": {},
     "output_type": "execute_result"
    }
   ],
   "source": [
    "np.where(result2.get_statevector()!=0)"
   ]
  },
  {
   "cell_type": "code",
   "execution_count": 18,
   "metadata": {},
   "outputs": [
    {
     "data": {
      "text/plain": [
       "(array([   1, 1025]),)"
      ]
     },
     "execution_count": 18,
     "metadata": {},
     "output_type": "execute_result"
    }
   ],
   "source": [
    "np.where(result3.get_statevector()!=0)"
   ]
  },
  {
   "cell_type": "code",
   "execution_count": 19,
   "metadata": {},
   "outputs": [
    {
     "data": {
      "text/plain": [
       "2048"
      ]
     },
     "execution_count": 19,
     "metadata": {},
     "output_type": "execute_result"
    }
   ],
   "source": [
    "len(result1.get_statevector())"
   ]
  },
  {
   "cell_type": "code",
   "execution_count": 21,
   "metadata": {},
   "outputs": [
    {
     "data": {
      "text/plain": [
       "'10000000000'"
      ]
     },
     "execution_count": 21,
     "metadata": {},
     "output_type": "execute_result"
    }
   ],
   "source": [
    "format(1024, 'b')"
   ]
  },
  {
   "cell_type": "code",
   "execution_count": 22,
   "metadata": {},
   "outputs": [
    {
     "data": {
      "text/plain": [
       "'10000000001'"
      ]
     },
     "execution_count": 22,
     "metadata": {},
     "output_type": "execute_result"
    }
   ],
   "source": [
    "format(1025, 'b')"
   ]
  },
  {
   "cell_type": "code",
   "execution_count": null,
   "metadata": {},
   "outputs": [],
   "source": []
  }
 ],
 "metadata": {
  "kernelspec": {
   "display_name": "Python 3",
   "language": "python",
   "name": "python3"
  },
  "language_info": {
   "codemirror_mode": {
    "name": "ipython",
    "version": 3
   },
   "file_extension": ".py",
   "mimetype": "text/x-python",
   "name": "python",
   "nbconvert_exporter": "python",
   "pygments_lexer": "ipython3",
   "version": "3.6.7"
  }
 },
 "nbformat": 4,
 "nbformat_minor": 4
}
