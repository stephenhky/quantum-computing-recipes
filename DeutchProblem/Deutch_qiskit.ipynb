{
 "cells": [
  {
   "cell_type": "code",
   "execution_count": 1,
   "metadata": {},
   "outputs": [],
   "source": [
    "import numpy as np\n",
    "from qiskit import *\n",
    "%matplotlib inline"
   ]
  },
  {
   "cell_type": "code",
   "execution_count": 2,
   "metadata": {},
   "outputs": [],
   "source": [
    "def quantum_black_box(circ, q, option):\n",
    "    if option==1:\n",
    "        pass\n",
    "    elif option==2:\n",
    "        circ.x(q[1])\n",
    "    elif option==3:\n",
    "        circ.cx(q[0], q[1])\n",
    "    elif option==4:\n",
    "        circ.x(q[0])\n",
    "        circ.cx(q[0], q[1])\n",
    "        circ.x(q[0])\n",
    "    return circ"
   ]
  },
  {
   "cell_type": "code",
   "execution_count": 3,
   "metadata": {},
   "outputs": [],
   "source": [
    "# Deutsch's Algorithm\n",
    "def deutsch_problem_circuit(option):\n",
    "    q = QuantumRegister(2)\n",
    "    circ = QuantumCircuit(q)\n",
    "    circ.x(q[1])\n",
    "    circ.h(q[0])\n",
    "    circ.h(q[1])\n",
    "    circ = quantum_black_box(circ, q, option)\n",
    "    circ.h(q[0])\n",
    "    return circ"
   ]
  },
  {
   "cell_type": "code",
   "execution_count": 4,
   "metadata": {},
   "outputs": [
    {
     "data": {
      "text/html": [
       "<pre style=\"word-wrap: normal;white-space: pre;line-height: 15px;\">         ┌───┐┌───┐\n",
       "q0_0: |0>┤ H ├┤ H ├\n",
       "         ├───┤├───┤\n",
       "q0_1: |0>┤ X ├┤ H ├\n",
       "         └───┘└───┘</pre>"
      ],
      "text/plain": [
       "<qiskit.visualization.text.TextDrawing at 0x118bf3588>"
      ]
     },
     "execution_count": 4,
     "metadata": {},
     "output_type": "execute_result"
    }
   ],
   "source": [
    "circ1 = deutsch_problem_circuit(1)\n",
    "circ1.draw()"
   ]
  },
  {
   "cell_type": "code",
   "execution_count": 5,
   "metadata": {},
   "outputs": [
    {
     "data": {
      "text/html": [
       "<pre style=\"word-wrap: normal;white-space: pre;line-height: 15px;\">         ┌───┐┌───┐     \n",
       "q1_0: |0>┤ H ├┤ H ├─────\n",
       "         ├───┤├───┤┌───┐\n",
       "q1_1: |0>┤ X ├┤ H ├┤ X ├\n",
       "         └───┘└───┘└───┘</pre>"
      ],
      "text/plain": [
       "<qiskit.visualization.text.TextDrawing at 0x118c3f978>"
      ]
     },
     "execution_count": 5,
     "metadata": {},
     "output_type": "execute_result"
    }
   ],
   "source": [
    "circ2 = deutsch_problem_circuit(2)\n",
    "circ2.draw()"
   ]
  },
  {
   "cell_type": "code",
   "execution_count": 6,
   "metadata": {},
   "outputs": [
    {
     "data": {
      "text/html": [
       "<pre style=\"word-wrap: normal;white-space: pre;line-height: 15px;\">         ┌───┐          ┌───┐\n",
       "q2_0: |0>┤ H ├───────■──┤ H ├\n",
       "         ├───┤┌───┐┌─┴─┐└───┘\n",
       "q2_1: |0>┤ X ├┤ H ├┤ X ├─────\n",
       "         └───┘└───┘└───┘     </pre>"
      ],
      "text/plain": [
       "<qiskit.visualization.text.TextDrawing at 0x118c3fa90>"
      ]
     },
     "execution_count": 6,
     "metadata": {},
     "output_type": "execute_result"
    }
   ],
   "source": [
    "circ3 = deutsch_problem_circuit(3)\n",
    "circ3.draw()"
   ]
  },
  {
   "cell_type": "code",
   "execution_count": 7,
   "metadata": {},
   "outputs": [
    {
     "data": {
      "text/html": [
       "<pre style=\"word-wrap: normal;white-space: pre;line-height: 15px;\">         ┌───┐┌───┐     ┌───┐┌───┐\n",
       "q3_0: |0>┤ H ├┤ X ├──■──┤ X ├┤ H ├\n",
       "         ├───┤├───┤┌─┴─┐└───┘└───┘\n",
       "q3_1: |0>┤ X ├┤ H ├┤ X ├──────────\n",
       "         └───┘└───┘└───┘          </pre>"
      ],
      "text/plain": [
       "<qiskit.visualization.text.TextDrawing at 0x118c3f7b8>"
      ]
     },
     "execution_count": 7,
     "metadata": {},
     "output_type": "execute_result"
    }
   ],
   "source": [
    "circ4 = deutsch_problem_circuit(4)\n",
    "circ4.draw()"
   ]
  },
  {
   "cell_type": "code",
   "execution_count": 8,
   "metadata": {},
   "outputs": [],
   "source": [
    "# Import Aer\n",
    "from qiskit import BasicAer\n",
    "\n",
    "# Run the quantum circuit on a statevector simulator backend\n",
    "backend = BasicAer.get_backend('statevector_simulator')"
   ]
  },
  {
   "cell_type": "code",
   "execution_count": 9,
   "metadata": {},
   "outputs": [
    {
     "data": {
      "text/plain": [
       "array([ 0.70710678+0.j,  0.        +0.j, -0.70710678+0.j,  0.        +0.j])"
      ]
     },
     "execution_count": 9,
     "metadata": {},
     "output_type": "execute_result"
    }
   ],
   "source": [
    "job1 = execute(circ1, backend)\n",
    "result1 = job1.result()\n",
    "result1.get_statevector()"
   ]
  },
  {
   "cell_type": "code",
   "execution_count": 10,
   "metadata": {},
   "outputs": [
    {
     "data": {
      "text/plain": [
       "array([-0.70710678+0.j,  0.        +0.j,  0.70710678+0.j,  0.        +0.j])"
      ]
     },
     "execution_count": 10,
     "metadata": {},
     "output_type": "execute_result"
    }
   ],
   "source": [
    "job2 = execute(circ2, backend)\n",
    "result2 = job2.result()\n",
    "result2.get_statevector()"
   ]
  },
  {
   "cell_type": "code",
   "execution_count": 11,
   "metadata": {},
   "outputs": [
    {
     "data": {
      "text/plain": [
       "array([ 0.        +0.j,  0.70710678+0.j,  0.        +0.j, -0.70710678+0.j])"
      ]
     },
     "execution_count": 11,
     "metadata": {},
     "output_type": "execute_result"
    }
   ],
   "source": [
    "job3 = execute(circ3, backend)\n",
    "result3 = job3.result()\n",
    "result3.get_statevector()"
   ]
  },
  {
   "cell_type": "code",
   "execution_count": 12,
   "metadata": {},
   "outputs": [
    {
     "data": {
      "text/plain": [
       "array([ 0.        +0.j, -0.70710678+0.j,  0.        +0.j,  0.70710678+0.j])"
      ]
     },
     "execution_count": 12,
     "metadata": {},
     "output_type": "execute_result"
    }
   ],
   "source": [
    "job4 = execute(circ4, backend)\n",
    "result4 = job4.result()\n",
    "result4.get_statevector()"
   ]
  },
  {
   "cell_type": "code",
   "execution_count": null,
   "metadata": {},
   "outputs": [],
   "source": []
  }
 ],
 "metadata": {
  "kernelspec": {
   "display_name": "Python 3",
   "language": "python",
   "name": "python3"
  },
  "language_info": {
   "codemirror_mode": {
    "name": "ipython",
    "version": 3
   },
   "file_extension": ".py",
   "mimetype": "text/x-python",
   "name": "python",
   "nbconvert_exporter": "python",
   "pygments_lexer": "ipython3",
   "version": "3.6.7"
  }
 },
 "nbformat": 4,
 "nbformat_minor": 4
}
